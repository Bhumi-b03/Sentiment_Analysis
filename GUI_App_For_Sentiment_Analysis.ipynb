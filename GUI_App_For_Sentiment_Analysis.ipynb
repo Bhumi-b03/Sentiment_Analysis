{
 "cells": [
  {
   "cell_type": "code",
   "execution_count": 1,
   "id": "d99b5220",
   "metadata": {},
   "outputs": [],
   "source": [
    "#!pip install textblob"
   ]
  },
  {
   "cell_type": "code",
   "execution_count": 2,
   "id": "0d2a5fae",
   "metadata": {},
   "outputs": [],
   "source": [
    "#!pip install vaderSentiment"
   ]
  },
  {
   "cell_type": "code",
   "execution_count": 3,
   "id": "6d9d77cb",
   "metadata": {},
   "outputs": [],
   "source": [
    "from tkinter import *\n",
    "from textblob import TextBlob\n",
    "from vaderSentiment.vaderSentiment import SentimentIntensityAnalyzer\n",
    "sia_obj = SentimentIntensityAnalyzer()"
   ]
  },
  {
   "cell_type": "code",
   "execution_count": null,
   "id": "0caf59cf",
   "metadata": {},
   "outputs": [],
   "source": [
    "# 1) Create an application window\n",
    "\n",
    "window = Tk()\n",
    "window.geometry('600x400')\n",
    "window.config(bg='#25cBB9')\n",
    "window.title('Sentiment Analysis')\n",
    "window.resizable(width=False, height=False)\n",
    "\n",
    "displayResult = StringVar()\n",
    "\n",
    "# 4) Event handling\n",
    "\n",
    "def check_sentiment():\n",
    "    user_input = inputText_field.get()\n",
    "\n",
    "    res = TextBlob(user_input)\n",
    "    res = sid_obj.polarity_scores(res)\n",
    "\n",
    "    if res['compound'] >= 0.05:\n",
    "        displayResult.set(\"positive\")\n",
    "        inputText_field.delete(0,END)\n",
    "    elif res['compound'] <= -0.05:\n",
    "        displayResult.set(\"negative\")\n",
    "        inputText_field.delete(0,END)\n",
    "    else:\n",
    "        displayResult.set(\"neutral\")\n",
    "        inputText_field.delete(0,END)\n",
    "\n",
    "\n",
    "\n",
    "\n",
    "# 2) Create widgets\n",
    "\n",
    "title = Label(window,text='Sentiment analyzer enter some text', fg='black', bg='blue', font=('Arial,16'))\n",
    "inputText_field = Entry(window, font=('Arial', 12))\n",
    "button1 = Button(window, text='Button', fg='black', bg='red', font=('Arial, 16'), command=check_sentiment )\n",
    "outputLabel = Label(window,text='Positive', fg='black',bg='violet', font=('Arial, 16'), textvariable = displayResult)\n",
    "\n",
    "# 3) Place widgets\n",
    "title.place(x=75, y=50)\n",
    "inputText_field.place(x=110 , y=120)\n",
    "button1.place(x=320, y=120)\n",
    "outputLabel.place(x=250,y=200)\n",
    "\n",
    "\n",
    "window.mainloop()"
   ]
  }
 ],
 "metadata": {
  "kernelspec": {
   "display_name": "Python 3 (ipykernel)",
   "language": "python",
   "name": "python3"
  },
  "language_info": {
   "codemirror_mode": {
    "name": "ipython",
    "version": 3
   },
   "file_extension": ".py",
   "mimetype": "text/x-python",
   "name": "python",
   "nbconvert_exporter": "python",
   "pygments_lexer": "ipython3",
   "version": "3.11.5"
  }
 },
 "nbformat": 4,
 "nbformat_minor": 5
}
